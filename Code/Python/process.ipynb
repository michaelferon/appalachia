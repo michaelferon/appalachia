{
 "nbformat": 4,
 "nbformat_minor": 2,
 "metadata": {
  "language_info": {
   "name": "python",
   "codemirror_mode": {
    "name": "ipython",
    "version": 3
   },
   "version": "3.7.4-final"
  },
  "orig_nbformat": 2,
  "file_extension": ".py",
  "mimetype": "text/x-python",
  "name": "python",
  "npconvert_exporter": "python",
  "pygments_lexer": "ipython3",
  "version": 3,
  "kernelspec": {
   "name": "python37464bit63f12b611e584b08b44b6d9c44f02a6d",
   "display_name": "Python 3.7.4 64-bit"
  }
 },
 "cells": [
  {
   "cell_type": "code",
   "execution_count": 1,
   "metadata": {},
   "outputs": [],
   "source": [
    "#Packages\n",
    "import pandas as pd\n",
    "import matplotlib\n",
    "import numpy as np\n",
    "import sklearn as sk\n",
    "from sklearn.model_selection import train_test_split\n"
   ]
  },
  {
   "cell_type": "code",
   "execution_count": 4,
   "metadata": {},
   "outputs": [
    {
     "name": "stdout",
     "output_type": "stream",
     "text": "time_utc          time  longitude   latitude  \\\n0       2018-05-01 19:30:54  2.628991e+08 -91.565102  29.522137   \n1       2018-05-01 19:30:55  2.628991e+08 -91.669456  29.575495   \n2       2018-05-01 19:30:56  2.628991e+08 -92.203979  29.577116   \n3       2018-05-01 19:30:56  2.628991e+08 -91.773079  29.628698   \n4       2018-05-01 19:30:56  2.628991e+08 -91.684502  29.638689   \n...                     ...           ...        ...        ...   \n827422  2020-01-31 19:32:53  3.181952e+08 -98.528854  35.462852   \n827423  2020-01-31 19:32:53  3.181952e+08 -98.450981  35.481709   \n827424  2020-01-31 19:32:53  3.181952e+08 -98.373283  35.500343   \n827425  2020-01-31 19:32:54  3.181952e+08 -98.622772  35.492546   \n827426  2020-01-31 19:32:54  3.181952e+08 -98.544640  35.511639   \n\n        methane_mixing_ratio  methane_mixing_ratio_bias_corrected  qa_value  \\\n0                1533.709717                          1559.114502       0.4   \n1                1575.607422                          1601.952026       0.4   \n2                1828.267944                          1850.696777       0.4   \n3                1647.628540                          1674.386353       0.4   \n4                1603.070068                          1629.585693       0.4   \n...                      ...                                  ...       ...   \n827422           1856.450439                          1855.692749       1.0   \n827423           1857.972046                          1859.371826       1.0   \n827424           1840.071777                          1841.391724       0.4   \n827425           1846.974487                          1846.018311       1.0   \n827426           1858.243408                          1857.023682       1.0   \n\n        eastward_wind  northward_wind  surface_altitude  quadrant  \n0           -2.561845        5.550471          0.056604         0  \n1           -4.096855        5.482203          0.021226         0  \n2           -4.960977        4.205696          1.108491         0  \n3           -4.955352        4.737756          0.069048         0  \n4           -4.096787        5.482293          0.044811         0  \n...               ...             ...               ...       ...  \n827422       2.122642       -3.850431        506.543854         0  \n827423       2.122642       -3.850431        498.624176         0  \n827424       2.163957       -3.654368        480.856842         0  \n827425       1.967503       -4.108845        511.613831         0  \n827426       2.122746       -3.850277        488.522308         0  \n\n[827427 rows x 11 columns]\n"
    }
   ],
   "source": [
    "#Read in dataframe\n",
    "fullData = pd.read_csv(\"../../Data/data-full/dataFull.csv\")\n",
    "\n",
    "\n"
   ]
  },
  {
   "cell_type": "code",
   "execution_count": null,
   "metadata": {},
   "outputs": [],
   "source": []
  }
 ]
}